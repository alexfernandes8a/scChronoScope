{
 "cells": [
  {
   "cell_type": "raw",
   "id": "fdfa071d-cffa-4979-88aa-dc39a0be6a36",
   "metadata": {},
   "source": [
    "\"\"\"\n",
    "Created on Fri Jan 17 13:53:51 2025\n",
    "\n",
    "@author: Alex Fernandes\n",
    "@GitHub: alexfernandes8a\n",
    "\"\"\""
   ]
  },
  {
   "cell_type": "markdown",
   "id": "413ed74e-2a6c-493f-8bd8-062f7c8da0d4",
   "metadata": {},
   "source": [
    "# scChronoScope\n",
    "- Jupyter Lab version"
   ]
  },
  {
   "cell_type": "code",
   "execution_count": null,
   "id": "0f85a350-18a7-400f-a8ac-f176835f29b6",
   "metadata": {},
   "outputs": [],
   "source": [
    "import plotly.express as px\n",
    "import plotly.graph_objs as go\n",
    "import pandas as pd\n",
    "import scanpy as sc\n",
    "from scipy.stats import zscore\n",
    "import numpy as np\n",
    "\n",
    "import os\n",
    "import re"
   ]
  },
  {
   "cell_type": "code",
   "execution_count": null,
   "id": "2cf0bc63-dd0c-4887-92cc-4000511f8fb4",
   "metadata": {},
   "outputs": [],
   "source": [
    "# Load your preprocessed data\n",
    "adata = sc.read_h5ad(\"./BrianClark_logp1.h5ad\")\n",
    "adata"
   ]
  },
  {
   "cell_type": "code",
   "execution_count": null,
   "id": "94bac767-e1d6-4ea8-9c22-66d3652d516a",
   "metadata": {},
   "outputs": [],
   "source": [
    "# Define variables for easier modification\n",
    "CELLTYPE_COLUMN = \"scDeepSort\"  # Column in adata.obs for cell types\n",
    "AGE_COLUMN = \"age\"  # Column in adata.obs for age\n",
    "AGE_ORDER = [\"E11\", \"E12\", \"E14\", \"E16\", \"E18\", \"P0\", \"P2\", \"P5\", \"P8\", \"P14\"]  # Age order\n",
    "\n",
    "# Ensure the age column is categorical and ordered\n",
    "adata.obs[AGE_COLUMN] = pd.Categorical(adata.obs[AGE_COLUMN], categories=AGE_ORDER, ordered=True)"
   ]
  },
  {
   "cell_type": "markdown",
   "id": "546df009-7941-4e5d-aa29-5870754569e8",
   "metadata": {},
   "source": [
    "## Gene of Interest"
   ]
  },
  {
   "cell_type": "code",
   "execution_count": null,
   "id": "3f5ab252-4b86-4fa6-bb40-4eeaeeda5569",
   "metadata": {},
   "outputs": [],
   "source": [
    "# Initial selection\n",
    "# selected_gene = None  # Set to a specific gene name if you want to visualize a specific gene"
   ]
  },
  {
   "cell_type": "code",
   "execution_count": null,
   "id": "5dac5c1a-13c1-4c48-8272-68158094f64d",
   "metadata": {},
   "outputs": [],
   "source": [
    "# Initial selection\n",
    "selected_gene = 'Mdk'  # Set to a specific gene name if you want to visualize a specific gene"
   ]
  },
  {
   "cell_type": "code",
   "execution_count": null,
   "id": "8b9f31d6-b6dc-4d9d-b238-2eb774015e4d",
   "metadata": {},
   "outputs": [],
   "source": [
    "# Base UMAP coordinates\n",
    "umap_coords = pd.DataFrame({\n",
    "    \"UMAP1\": adata.obs[\"umap_coord1\"],\n",
    "    \"UMAP2\": adata.obs[\"umap_coord2\"],\n",
    "    \"UMAP3\": adata.obs[\"umap_coord3\"],\n",
    "    \"Cell Type\": adata.obs[CELLTYPE_COLUMN],\n",
    "    \"Age\": adata.obs[AGE_COLUMN]\n",
    "})\n",
    "\n",
    "# Calculate dynamic dot size based on the number of cells\n",
    "num_cells = umap_coords.shape[0]\n",
    "base_size = 5  # Base size for dots\n",
    "dot_size = max(1, base_size - 0.01 * num_cells)  # Adjust size based on number of cells"
   ]
  },
  {
   "cell_type": "code",
   "execution_count": null,
   "id": "436d09fe-8075-4ea7-8e5c-9af67def45d0",
   "metadata": {},
   "outputs": [],
   "source": [
    "print(num_cells)\n",
    "print(base_size)\n",
    "print(dot_size)"
   ]
  },
  {
   "cell_type": "markdown",
   "id": "71485f60-7154-401c-a598-4776384f1f36",
   "metadata": {},
   "source": [
    "## Figure 1 and 2"
   ]
  },
  {
   "cell_type": "code",
   "execution_count": null,
   "id": "f0a4795e-65ae-4d2c-b368-69e62fbb37e9",
   "metadata": {},
   "outputs": [],
   "source": [
    "# Function to generate 3D UMAP plot\n",
    "def generate_3d_umap_plot(selected_gene=None):\n",
    "    if selected_gene:\n",
    "        umap_coords[\"Expression\"] = adata[:, selected_gene].X.toarray().flatten()\n",
    "        fig = px.scatter_3d(\n",
    "            umap_coords, x=\"UMAP1\", y=\"UMAP2\", z=\"UMAP3\", color=\"Expression\",\n",
    "            title=f\"3D UMAP: Gene Expression - {selected_gene}\",\n",
    "            color_continuous_scale=\"Viridis\",\n",
    "            size_max=dot_size  # Set dynamic dot size\n",
    "        )\n",
    "    else:\n",
    "        fig = px.scatter_3d(\n",
    "            umap_coords, x=\"UMAP1\", y=\"UMAP2\", z=\"UMAP3\", color=\"Cell Type\",\n",
    "            title=\"3D UMAP: Cell Type Annotations\",\n",
    "            color_discrete_sequence=px.colors.qualitative.Plotly,  # Use consistent colors\n",
    "            size_max=dot_size  # Set dynamic dot size\n",
    "        )\n",
    "    return fig"
   ]
  },
  {
   "cell_type": "markdown",
   "id": "6541a76c-fa43-4a91-82e8-4d28c0045c78",
   "metadata": {},
   "source": [
    "### Figure 1: UMAP 3D"
   ]
  },
  {
   "cell_type": "code",
   "execution_count": null,
   "id": "f167e955-f627-4c74-919a-1557eb9ae679",
   "metadata": {},
   "outputs": [],
   "source": [
    "# Initial selection\n",
    "# selected_gene = 'Mdk'  # Set to a specific gene name if you want to visualize a specific gene"
   ]
  },
  {
   "cell_type": "code",
   "execution_count": null,
   "id": "27c38bc1-b33a-4153-be4a-5ee98c7da641",
   "metadata": {},
   "outputs": [],
   "source": [
    "# Generate the 3D UMAP plot\n",
    "fig1 = generate_3d_umap_plot()"
   ]
  },
  {
   "cell_type": "code",
   "execution_count": null,
   "id": "e56a7ea9-3fd9-4d7c-be4a-ac09388f262a",
   "metadata": {},
   "outputs": [],
   "source": [
    "fig1.show()"
   ]
  },
  {
   "cell_type": "markdown",
   "id": "cd505330-a506-42d0-a34f-88e505622fd6",
   "metadata": {},
   "source": [
    "### Figure 2: Gene Expression 3D"
   ]
  },
  {
   "cell_type": "code",
   "execution_count": null,
   "id": "c6dfa737-8f8d-4509-bd85-67137d65f0ab",
   "metadata": {},
   "outputs": [],
   "source": [
    "gene_options = [{\"label\": gene, \"value\": gene} for gene in adata.var_names]\n",
    "# print(gene_options)"
   ]
  },
  {
   "cell_type": "code",
   "execution_count": null,
   "id": "7c1dd361-bd1c-4c90-a2fc-c0430a9cc790",
   "metadata": {},
   "outputs": [],
   "source": [
    "# Initial selection\n",
    "# selected_gene = 'Mdk'  # Set to a specific gene name if you want to visualize a specific gene"
   ]
  },
  {
   "cell_type": "code",
   "execution_count": null,
   "id": "abc38206-768e-4f57-819d-1104300ce62e",
   "metadata": {},
   "outputs": [],
   "source": [
    "# Display the initial plot\n",
    "fig2 = generate_3d_umap_plot(selected_gene)\n",
    "fig2.show()"
   ]
  },
  {
   "cell_type": "markdown",
   "id": "99247fed-9a5d-45f3-8df0-849d87027134",
   "metadata": {},
   "source": [
    "# Figure 3: Gene Expression by Cell Type Visualization"
   ]
  },
  {
   "cell_type": "code",
   "execution_count": null,
   "id": "c6189dec-3d43-483e-bcaf-3cf21ccc4129",
   "metadata": {},
   "outputs": [],
   "source": [
    "# Initial selection\n",
    "# selected_gene = 'Mdk'  # Set to a specific gene name if you want to visualize a specific gene"
   ]
  },
  {
   "cell_type": "code",
   "execution_count": null,
   "id": "f6203741-aa72-4b2b-b09f-831a5a3c47fe",
   "metadata": {},
   "outputs": [],
   "source": [
    "# Function to generate box plot for gene expression by cell type\n",
    "def generate_box_plot(selected_gene):\n",
    "    if selected_gene:\n",
    "        expression_data = pd.DataFrame({\n",
    "            \"Cell Type\": adata.obs[CELLTYPE_COLUMN],\n",
    "            \"Expression\": adata[:, selected_gene].X.toarray().flatten()\n",
    "        })\n",
    "        fig = px.box(\n",
    "            expression_data, x=\"Cell Type\", y=\"Expression\", color=\"Cell Type\",\n",
    "            title=f\"Expression of {selected_gene} by Cell Type\",\n",
    "            color_discrete_sequence=px.colors.qualitative.Plotly  # Use consistent colors\n",
    "        )\n",
    "    else:\n",
    "        fig = px.box(\n",
    "            title=\"Select a gene to view expression by cell type\"\n",
    "        )\n",
    "    return fig"
   ]
  },
  {
   "cell_type": "code",
   "execution_count": null,
   "id": "5a9503a1-f584-4a31-9856-7f80ec269b4a",
   "metadata": {},
   "outputs": [],
   "source": [
    "# Display the initial plot\n",
    "fig3 = generate_box_plot(selected_gene)\n",
    "fig3.show()"
   ]
  },
  {
   "cell_type": "markdown",
   "id": "0b01d80a-c669-4703-b527-a673d4518899",
   "metadata": {},
   "source": [
    "# Figure 4: Gene Expression by Timepoint"
   ]
  },
  {
   "cell_type": "code",
   "execution_count": null,
   "id": "c2144423-9364-478f-af0c-9b54038ea860",
   "metadata": {},
   "outputs": [],
   "source": [
    "# Initial selection\n",
    "# selected_gene = 'Mdk'  # Set to a specific gene name if you want to visualize a specific gene"
   ]
  },
  {
   "cell_type": "code",
   "execution_count": null,
   "id": "64f01845-1754-4deb-9683-c857ffc1300e",
   "metadata": {},
   "outputs": [],
   "source": [
    "# Function to generate line plot for gene expression by age\n",
    "def generate_line_plot(selected_gene):\n",
    "    if selected_gene:\n",
    "        lineplot_data = pd.DataFrame({\n",
    "            \"Cell Type\": adata.obs[CELLTYPE_COLUMN],\n",
    "            \"Age\": adata.obs[AGE_COLUMN],\n",
    "            \"Expression\": adata[:, selected_gene].X.toarray().flatten()\n",
    "        })\n",
    "        # Aggregate expression by cell type and age\n",
    "        lineplot_data = lineplot_data.groupby([\"Cell Type\", \"Age\"], observed=False).mean().reset_index()\n",
    "        fig = px.line(\n",
    "            lineplot_data, x=\"Age\", y=\"Expression\", color=\"Cell Type\",\n",
    "            title=f\"Expression of {selected_gene} by Age\",\n",
    "            labels={\"Expression\": \"Mean Expression\", \"Age\": \"Age\"},\n",
    "            color_discrete_sequence=px.colors.qualitative.Plotly  # Use consistent colors\n",
    "        )\n",
    "    else:\n",
    "        fig = px.line(\n",
    "            title=\"Select a gene to view expression by age\"\n",
    "        )\n",
    "    return fig"
   ]
  },
  {
   "cell_type": "code",
   "execution_count": null,
   "id": "0d4bc4e0-50eb-41ba-882e-1ff9b143fab0",
   "metadata": {},
   "outputs": [],
   "source": [
    "# Display the initial plot\n",
    "fig4 = generate_line_plot(selected_gene)\n",
    "fig4.show()"
   ]
  },
  {
   "cell_type": "markdown",
   "id": "75c6824f-3c34-4cf3-9994-c81a1e858cf8",
   "metadata": {},
   "source": [
    "# Figure 5: Gene Expression by Cell Type and Age"
   ]
  },
  {
   "cell_type": "code",
   "execution_count": null,
   "id": "ea009793-c521-4d4e-bf3d-b083fdb9e2d9",
   "metadata": {},
   "outputs": [],
   "source": [
    "# Initial selection\n",
    "# selected_gene = 'Mdk'  # Set to a specific gene name if you want to visualize a specific gene"
   ]
  },
  {
   "cell_type": "code",
   "execution_count": null,
   "id": "84312df5-6afd-4e3e-818e-5dde06609725",
   "metadata": {},
   "outputs": [],
   "source": [
    "# Function to generate heatmap for gene expression by cell type and age\n",
    "def generate_heatmap(selected_gene):\n",
    "    if selected_gene:\n",
    "        # Aggregate expression by cell type and age\n",
    "        heatmap_data = pd.DataFrame({\n",
    "            \"Cell Type\": adata.obs[CELLTYPE_COLUMN],\n",
    "            \"Age\": adata.obs[AGE_COLUMN],\n",
    "            \"Expression\": adata[:, selected_gene].X.toarray().flatten()\n",
    "        })\n",
    "        heatmap_data = heatmap_data.groupby([\"Cell Type\", \"Age\"], observed=False).mean().reset_index()\n",
    "\n",
    "        # Drop rows with NaN values in the Expression column\n",
    "        heatmap_data = heatmap_data.dropna(subset=[\"Expression\"])\n",
    "\n",
    "        # Calculate relative expression (z-score normalization)\n",
    "        heatmap_data[\"Relative Expression\"] = zscore(heatmap_data[\"Expression\"])\n",
    "\n",
    "        # Pivot the data for the heatmap\n",
    "        heatmap_pivot = heatmap_data.pivot(index=\"Cell Type\", columns=\"Age\", values=\"Relative Expression\")\n",
    "\n",
    "        # Replace NaN values with 0 (or another appropriate value)\n",
    "        heatmap_pivot = heatmap_pivot.fillna(0)\n",
    "\n",
    "        # Create the heatmap\n",
    "        fig = go.Figure(data=go.Heatmap(\n",
    "            z=heatmap_pivot.values,\n",
    "            x=heatmap_pivot.columns,\n",
    "            y=heatmap_pivot.index,\n",
    "            colorscale=\"Viridis\",\n",
    "            colorbar=dict(title=\"Relative Expression (Z-Score)\")\n",
    "        ))\n",
    "        fig.update_layout(\n",
    "            title=f\"Relative Expression of {selected_gene} by Cell Type and Age\",\n",
    "            xaxis_title=\"Age\",\n",
    "            yaxis_title=\"Cell Type\",\n",
    "            height=600  # Adjust height as needed\n",
    "        )\n",
    "    else:\n",
    "        fig = go.Figure()\n",
    "        fig.update_layout(\n",
    "            title=\"Select a gene to view relative expression by cell type and age\"\n",
    "        )\n",
    "    return fig"
   ]
  },
  {
   "cell_type": "code",
   "execution_count": null,
   "id": "3854a58c-317d-4344-b79d-1593dd41220f",
   "metadata": {},
   "outputs": [],
   "source": [
    "# Display the initial plot\n",
    "fig5 = generate_heatmap(selected_gene)\n",
    "fig5.show()"
   ]
  },
  {
   "cell_type": "markdown",
   "id": "0db246ce-da74-44ba-83a2-a5280dbd0c83",
   "metadata": {},
   "source": [
    "# Save all Figures in interactive .html files"
   ]
  },
  {
   "cell_type": "code",
   "execution_count": null,
   "id": "91524d6c-2324-47c7-a4ad-0023254b071d",
   "metadata": {},
   "outputs": [],
   "source": [
    "# Function to sanitize gene name for file names\n",
    "def sanitize_filename(filename):\n",
    "    # Remove special characters and spaces\n",
    "    return re.sub(r'[\\\\/*?:\"<>|]', '', filename).replace(\" \", \"_\")\n",
    "\n",
    "# Ensure the 'interactive_plots' folder exists\n",
    "output_folder = \"interactive_plots\"\n",
    "os.makedirs(output_folder, exist_ok=True)"
   ]
  },
  {
   "cell_type": "code",
   "execution_count": null,
   "id": "5940f4e9-7125-435e-b29f-6d5405e6bb8d",
   "metadata": {},
   "outputs": [],
   "source": [
    "# Save initial plots as HTML files\n",
    "\n",
    "fig1.write_html(os.path.join(output_folder, \"3d_umap.html\"))\n",
    "\n",
    "if selected_gene:\n",
    "    sanitized_gene_name = sanitize_filename(selected_gene)\n",
    "    fig2.write_html(os.path.join(output_folder, f\"{sanitized_gene_name}_3d_umap_gene_expression.html\"))\n",
    "    fig3.write_html(os.path.join(output_folder, f\"{sanitized_gene_name}_gene_expression_by_cell_type.html\"))\n",
    "    fig4.write_html(os.path.join(output_folder, f\"{sanitized_gene_name}_gene_expression_by_age.html\"))\n",
    "    fig5.write_html(os.path.join(output_folder, f\"{sanitized_gene_name}_gene_expression_by_cell_type_and_age.html\"))\n",
    "else:\n",
    "    fig2.write_html(os.path.join(output_folder, \"3d_umap_gene_expression.html\"))\n",
    "    fig3.write_html(os.path.join(output_folder, \"gene_expression_by_cell_type.html\"))\n",
    "    fig4.write_html(os.path.join(output_folder, \"gene_expression_by_age.html\"))\n",
    "    fig5.write_html(os.path.join(output_folder, \"gene_expression_by_cell_type_and_age.html\"))"
   ]
  }
 ],
 "metadata": {
  "kernelspec": {
   "display_name": "Python 3 (ipykernel)",
   "language": "python",
   "name": "python3"
  },
  "language_info": {
   "codemirror_mode": {
    "name": "ipython",
    "version": 3
   },
   "file_extension": ".py",
   "mimetype": "text/x-python",
   "name": "python",
   "nbconvert_exporter": "python",
   "pygments_lexer": "ipython3",
   "version": "3.13.2"
  }
 },
 "nbformat": 4,
 "nbformat_minor": 5
}
